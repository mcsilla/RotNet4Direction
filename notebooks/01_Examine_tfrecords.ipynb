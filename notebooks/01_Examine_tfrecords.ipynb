{
 "cells": [
  {
   "cell_type": "code",
   "execution_count": null,
   "id": "04bbad5e",
   "metadata": {},
   "outputs": [],
   "source": [
    "import tensorflow as tf\n",
    "import cv2\n",
    "import numpy as np\n",
    "import os\n",
    "import sys\n",
    "sys.path.append(os.path.dirname(os.path.abspath('')))\n",
    "from data.tf_example_decoder import TfExampleDecoder\n",
    "\n",
    "# for visualizing images\n",
    "from PIL import Image"
   ]
  },
  {
   "cell_type": "code",
   "execution_count": null,
   "id": "90086792",
   "metadata": {},
   "outputs": [],
   "source": [
    "# record_file = \"path/to/tfrecord/file\"\n",
    "record_file = \"/mnt/noah/dev/csilla/cv/correct_orientation/test_with_streetview_part1/tfrecords/train_0_11-00003-of-00005\""
   ]
  },
  {
   "cell_type": "code",
   "execution_count": null,
   "id": "487b4138",
   "metadata": {},
   "outputs": [],
   "source": [
    "decoder = TfExampleDecoder()\n",
    "dataset = tf.data.TFRecordDataset(record_file)\n",
    "dataset = dataset.shuffle(10) # if run multiple times, the selected record will be different \n",
    "for rec in dataset.take(1):\n",
    "    image = decoder.decode(rec)"
   ]
  },
  {
   "cell_type": "code",
   "execution_count": null,
   "id": "a0583f8b",
   "metadata": {},
   "outputs": [],
   "source": [
    "Image.fromarray(image.numpy())"
   ]
  },
  {
   "cell_type": "code",
   "execution_count": null,
   "id": "a91f4c03",
   "metadata": {},
   "outputs": [],
   "source": [
    "image.shape"
   ]
  },
  {
   "cell_type": "code",
   "execution_count": null,
   "id": "45effd1f",
   "metadata": {},
   "outputs": [],
   "source": [
    "image.numpy()"
   ]
  }
 ],
 "metadata": {
  "kernelspec": {
   "display_name": "Python 3",
   "language": "python",
   "name": "python3"
  },
  "language_info": {
   "codemirror_mode": {
    "name": "ipython",
    "version": 3
   },
   "file_extension": ".py",
   "mimetype": "text/x-python",
   "name": "python",
   "nbconvert_exporter": "python",
   "pygments_lexer": "ipython3",
   "version": "3.7.9"
  }
 },
 "nbformat": 4,
 "nbformat_minor": 5
}
